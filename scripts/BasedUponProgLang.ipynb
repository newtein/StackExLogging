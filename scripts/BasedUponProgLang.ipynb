{
 "cells": [
  {
   "cell_type": "code",
   "execution_count": 1,
   "metadata": {
    "collapsed": true
   },
   "outputs": [],
   "source": [
    "from collections import OrderedDict\n",
    "import matplotlib.pyplot as plt\n",
    "import seaborn as sns\n",
    "from lxml import etree\n",
    "sns.set()\n"
   ]
  },
  {
   "cell_type": "code",
   "execution_count": 2,
   "metadata": {
    "collapsed": true
   },
   "outputs": [],
   "source": [
    "datamap=OrderedDict()\n",
    "datamap[\"android\"]=\"android.stackexchange.com\"\n",
    "datamap[\"dba\"]=\"dba.stackexchange.com\"\n",
    "datamap[\"softwareEng\"]=\"softwareengineering.stackexchange.com\"\n",
    "datamap[\"serverfault\"]= \"serverfault.com\"\n",
    "datamap[\"superuser\"]=\"superuser.com\"\n",
    "datamap[\"stackoverflow\"]=\"stackoverflow.com-\""
   ]
  },
  {
   "cell_type": "code",
   "execution_count": 3,
   "metadata": {
    "collapsed": true
   },
   "outputs": [],
   "source": [
    "def read_prog_lang(filename):\n",
    "    data=OrderedDict()\n",
    "    f=open(filename,\"r\")\n",
    "    for l in f:\n",
    "        row=l.split(\"\\t\")\n",
    "        key=row[0].lower().strip()\n",
    "        data[key]=[]\n",
    "        for element in row[1].split(\",\"):\n",
    "            data[key].append(element.strip().lower())\n",
    "    return data\n",
    "\n",
    "def atleast_one(a, b):\n",
    "    return not set(a).isdisjoint(b)\n",
    "\n",
    "def refine_tags(tags):\n",
    "    if tags!=None:\n",
    "        l=tags.split('><')\n",
    "        l=[i.replace('>','').replace('<','').lower() for i in l]\n",
    "        return l\n",
    "    else:\n",
    "        return [\"???\"]\n",
    "\n",
    "def init_data(logtags):\n",
    "    data=OrderedDict()\n",
    "    for lang in logtags:\n",
    "        data[lang.lower()]=OrderedDict()\n",
    "    return data\n",
    "\n",
    "def read_tags(filename):\n",
    "    logtags=[]\n",
    "    for row in open(filename,\"r\"):\n",
    "        logtags.append(row.split(\",\")[0].strip().lower())   \n",
    "    return logtags\n",
    "\n",
    "def check_tags(data,tags):\n",
    "    for lang in langs:\n",
    "        #print(tags,logtags[lang])\n",
    "        if atleast_one(tags,prog_tags[lang]):\n",
    "            # Atleast one logging tag\n",
    "            return 1,lang\n",
    "\n",
    "        elif atleast_one(tags,general_tags):\n",
    "            if lang==\"javascript\":\n",
    "                check=[lang,\"js\"]\n",
    "            else:\n",
    "                check=[lang]\n",
    "            if atleast_one(tags,check):\n",
    "                return 1, lang\n",
    "    return 0,0"
   ]
  },
  {
   "cell_type": "code",
   "execution_count": 4,
   "metadata": {
    "collapsed": true,
    "scrolled": false
   },
   "outputs": [],
   "source": [
    "prog_tags=read_prog_lang(\"logging - Sheet4.tsv\")\n",
    "general_tags=list(set(read_tags(\"logging - Sheet3.csv\")))\n",
    "for i in prog_tags:\n",
    "    general_tags.extend(prog_tags[i])\n",
    "general_tags=list(set(general_tags))\n",
    "langs=[i for i in prog_tags.keys()]"
   ]
  },
  {
   "cell_type": "code",
   "execution_count": 5,
   "metadata": {
    "collapsed": true
   },
   "outputs": [],
   "source": [
    "def distribute_posts(logtags):\n",
    "    \n",
    "    data=init_data(prog_tags)\n",
    "    print(data)\n",
    "    for website in list(datamap.keys())[5:6]:\n",
    "        fname=website\n",
    "        \n",
    "        total_q,accepted_q,logging_q,total_logging_q=0,0,0,0\n",
    "        \n",
    "        if fname==\"stackoverflow\" and datamap[fname]==\"stackoverflow.com-\":\n",
    "            datamap[fname]=datamap[fname]+\"Posts\"\n",
    "\n",
    "        \n",
    "        f=open(\"data/\"+datamap[website]+\"/Posts.xml\",\"rb\")\n",
    "        next(f)\n",
    "        next(f)\n",
    "        for l in f:\n",
    "            try:\n",
    "                total_q+=1\n",
    "                row=etree.XML(l)  \n",
    "                posttypeid=row.get(\"PostTypeId\") \n",
    "                acceptedanswerID=row.get(\"AcceptedAnswerId\")\n",
    "                tags=refine_tags(row.get(\"Tags\"))\n",
    "                if atleast_one(tags,general_tags):\n",
    "                    total_logging_q+=1\n",
    "                \n",
    "                if posttypeid==\"1\" and acceptedanswerID!=None:\n",
    "                    # Means it has an accepted answer\n",
    "                    accepted_q+=1\n",
    "                    \n",
    "                    result,lang=check_tags(data,tags)\n",
    "                    \n",
    "                    if atleast_one(tags,general_tags):\n",
    "                        logging_q+=1\n",
    "                    \n",
    "                    if result==1:\n",
    "                        date=row.get(\"CreationDate\")\n",
    "                        key=date.split(\"T\")[0][0:7]\n",
    "                        if key not in data[lang]:\n",
    "                            data[lang][key]=0\n",
    "                        data[lang][key]+=1\n",
    "                    \n",
    "                    #print(tags)\n",
    "\n",
    "            \n",
    "            except:\n",
    "                print(l)\n",
    "        print(website,total_q,accepted_q,total_logging_q,logging_q)      \n",
    "        f.close()\n",
    "    return data"
   ]
  },
  {
   "cell_type": "code",
   "execution_count": 6,
   "metadata": {
    "scrolled": true
   },
   "outputs": [
    {
     "name": "stdout",
     "output_type": "stream",
     "text": [
      "OrderedDict([('java', OrderedDict()), ('c', OrderedDict()), ('c++', OrderedDict()), ('python', OrderedDict()), ('c#', OrderedDict()), ('javascript', OrderedDict()), ('android', OrderedDict())])\n"
     ]
    },
    {
     "ename": "MemoryError",
     "evalue": "",
     "output_type": "error",
     "traceback": [
      "\u001b[1;31m---------------------------------------------------------------------------\u001b[0m",
      "\u001b[1;31mMemoryError\u001b[0m                               Traceback (most recent call last)",
      "\u001b[1;32m<ipython-input-6-dd43c0e05be7>\u001b[0m in \u001b[0;36m<module>\u001b[1;34m()\u001b[0m\n\u001b[1;32m----> 1\u001b[1;33m \u001b[0mdata\u001b[0m\u001b[1;33m=\u001b[0m\u001b[0mdistribute_posts\u001b[0m\u001b[1;33m(\u001b[0m\u001b[0mprog_tags\u001b[0m\u001b[1;33m)\u001b[0m\u001b[1;33m\u001b[0m\u001b[0m\n\u001b[0m\u001b[0;32m      2\u001b[0m \u001b[0mprint\u001b[0m\u001b[1;33m(\u001b[0m\u001b[0mdata\u001b[0m\u001b[1;33m)\u001b[0m\u001b[1;33m\u001b[0m\u001b[0m\n",
      "\u001b[1;32m<ipython-input-5-74c51ab082b8>\u001b[0m in \u001b[0;36mdistribute_posts\u001b[1;34m(logtags)\u001b[0m\n\u001b[0;32m     15\u001b[0m         \u001b[0mnext\u001b[0m\u001b[1;33m(\u001b[0m\u001b[0mf\u001b[0m\u001b[1;33m)\u001b[0m\u001b[1;33m\u001b[0m\u001b[0m\n\u001b[0;32m     16\u001b[0m         \u001b[0mnext\u001b[0m\u001b[1;33m(\u001b[0m\u001b[0mf\u001b[0m\u001b[1;33m)\u001b[0m\u001b[1;33m\u001b[0m\u001b[0m\n\u001b[1;32m---> 17\u001b[1;33m         \u001b[1;32mfor\u001b[0m \u001b[0ml\u001b[0m \u001b[1;32min\u001b[0m \u001b[0mf\u001b[0m\u001b[1;33m:\u001b[0m\u001b[1;33m\u001b[0m\u001b[0m\n\u001b[0m\u001b[0;32m     18\u001b[0m             \u001b[1;32mtry\u001b[0m\u001b[1;33m:\u001b[0m\u001b[1;33m\u001b[0m\u001b[0m\n\u001b[0;32m     19\u001b[0m                 \u001b[0mtotal_q\u001b[0m\u001b[1;33m+=\u001b[0m\u001b[1;36m1\u001b[0m\u001b[1;33m\u001b[0m\u001b[0m\n",
      "\u001b[1;31mMemoryError\u001b[0m: "
     ]
    }
   ],
   "source": [
    "data=distribute_posts(prog_tags)\n",
    "print(data)"
   ]
  },
  {
   "cell_type": "code",
   "execution_count": null,
   "metadata": {
    "collapsed": true
   },
   "outputs": [],
   "source": []
  }
 ],
 "metadata": {
  "kernelspec": {
   "display_name": "Python 3",
   "language": "python",
   "name": "python3"
  },
  "language_info": {
   "codemirror_mode": {
    "name": "ipython",
    "version": 3
   },
   "file_extension": ".py",
   "mimetype": "text/x-python",
   "name": "python",
   "nbconvert_exporter": "python",
   "pygments_lexer": "ipython3",
   "version": "3.6.2"
  }
 },
 "nbformat": 4,
 "nbformat_minor": 2
}
